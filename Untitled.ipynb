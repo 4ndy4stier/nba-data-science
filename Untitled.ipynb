{
 "cells": [
  {
   "cell_type": "code",
   "execution_count": 1,
   "id": "4138f59e-6d3d-49f0-a9fa-a2f941aedbe9",
   "metadata": {},
   "outputs": [],
   "source": [
    "import pandas as pd\n",
    "from bs4 import BeautifulSoup\n",
    "import requests as rq"
   ]
  },
  {
   "cell_type": "code",
   "execution_count": 14,
   "id": "725e0551-8b6d-4fe7-ac45-c49a7b7d96e4",
   "metadata": {},
   "outputs": [
    {
     "name": "stderr",
     "output_type": "stream",
     "text": [
      "/tmp/ipykernel_13194/2855516878.py:3: DeprecationWarning: executable_path has been deprecated, please pass in a Service object\n",
      "  driver = webdriver.Chrome(executable_path=\"/home/andy/Documents/chromedriver_linux64 (1)/chromedriver\")\n"
     ]
    }
   ],
   "source": [
    "from selenium import webdriver\n",
    "\n",
    "driver = webdriver.Chrome(executable_path=\"/home/andy/Documents/chromedriver_linux64 (1)/chromedriver\")"
   ]
  },
  {
   "cell_type": "code",
   "execution_count": 3,
   "id": "7b9475b2-4e26-48cb-82cc-35746cd9b18d",
   "metadata": {},
   "outputs": [],
   "source": [
    "from selenium.common.exceptions import NoSuchElementException\n",
    "from selenium.common.exceptions import WebDriverException"
   ]
  },
  {
   "cell_type": "code",
   "execution_count": 4,
   "id": "d0c3a659-14fa-4a98-a05e-09c491858770",
   "metadata": {},
   "outputs": [],
   "source": [
    "import time\n",
    "import random"
   ]
  },
  {
   "cell_type": "code",
   "execution_count": 5,
   "id": "40e58ac9-5696-4410-9c14-1cddaaee85a9",
   "metadata": {},
   "outputs": [],
   "source": [
    "url = \"https://www.nba.com/stats/teams/advanced/?dir=-1&sort=W&Season={}-{}&SeasonType=Regular%20Season\""
   ]
  },
  {
   "cell_type": "code",
   "execution_count": 6,
   "id": "ecdc8c2e-d0f3-4ef2-9ace-9cdc229c4b11",
   "metadata": {},
   "outputs": [],
   "source": [
    "driver.get(url)"
   ]
  },
  {
   "cell_type": "code",
   "execution_count": null,
   "id": "46459db7-4620-435b-b784-5cb5f93a61ed",
   "metadata": {},
   "outputs": [],
   "source": []
  },
  {
   "cell_type": "code",
   "execution_count": 7,
   "id": "2118bda0-ac63-45b7-9069-b2d66fda26f2",
   "metadata": {},
   "outputs": [
    {
     "name": "stderr",
     "output_type": "stream",
     "text": [
      "/tmp/ipykernel_13194/977021951.py:1: DeprecationWarning: find_element_by_* commands are deprecated. Please use find_element() instead\n",
      "  driver.find_element_by_id('onetrust-accept-btn-handler').click()\n"
     ]
    }
   ],
   "source": [
    "driver.find_element_by_id('onetrust-accept-btn-handler').click()"
   ]
  },
  {
   "cell_type": "code",
   "execution_count": 8,
   "id": "f37a8932-39db-4ac3-ac43-4a66588aa290",
   "metadata": {},
   "outputs": [],
   "source": [
    "driver.execute_script(\"window.scrollTo(1,10000)\")"
   ]
  },
  {
   "cell_type": "code",
   "execution_count": 7,
   "id": "b7b0324c-ccf9-4e7d-afeb-62457294cc68",
   "metadata": {},
   "outputs": [],
   "source": [
    "source = driver.page_source"
   ]
  },
  {
   "cell_type": "code",
   "execution_count": 8,
   "id": "51e55c17-2493-4ec6-a2a7-a947287e1a10",
   "metadata": {},
   "outputs": [],
   "source": [
    "with open('test.html', 'w+') as f :\n",
    "    f.write(source)"
   ]
  },
  {
   "cell_type": "code",
   "execution_count": 12,
   "id": "108ec996-fe74-4e98-ade8-d9b4c5e30b38",
   "metadata": {},
   "outputs": [],
   "source": [
    "def download_page(year):\n",
    "    print(f'Getting the page for the year : {year}')\n",
    "    year2 = int(str(year)[2:])\n",
    "    url_ = f'https://www.nba.com/stats/teams/advanced/?dir=-1&sort=W&Season={year-1}-{year2}&SeasonType=Regular%20Season'\n",
    "    print(year, year2)\n",
    "    #print(url_)\n",
    "    \n",
    "    if year in list(range(1999, 2011)) :\n",
    "        url_ = f'https://www.nba.com/stats/teams/advanced/?dir=-1&sort=W&Season={year-1}-0{year2}&SeasonType=Regular%20Season'\n",
    "    print(url_)\n",
    "    \n",
    "    #loading the page \n",
    "    driver.get(url_)\n",
    "    try:\n",
    "        driver.find_element_by_id('onetrust-accept-btn-handler').click()\n",
    "        time.sleep(random.randint(1,3))\n",
    "        \n",
    "    except NoSuchElementException:\n",
    "        pass\n",
    "    \n",
    "    driver.execute_script(\"window.scrollTo(1,10000)\")\n",
    "    time.sleep(random.randint(1,3))\n",
    "    html_page = driver.page_source\n",
    "    \n",
    "    with open(f'team_html2/{year}.html', 'w+') as f:\n",
    "        f.write(html_page)\n",
    "        \n",
    "    print(f'Year : {year} Done!\\n')\n",
    "    print('-------------------------------')"
   ]
  },
  {
   "cell_type": "code",
   "execution_count": 10,
   "id": "69285d68-30f8-484b-8fac-732afbfa7f1b",
   "metadata": {},
   "outputs": [
    {
     "name": "stdout",
     "output_type": "stream",
     "text": [
      "Getting the page for the year : 2020\n",
      "2020 20\n",
      "https://www.nba.com/stats/teams/advanced/?dir=-1&sort=W&Season=2019-20&SeasonType=Regular%20Season\n"
     ]
    },
    {
     "name": "stderr",
     "output_type": "stream",
     "text": [
      "/tmp/ipykernel_13194/2902389767.py:14: DeprecationWarning: find_element_by_* commands are deprecated. Please use find_element() instead\n",
      "  driver.find_element_by_id('onetrust-accept-btn-handler').click()\n"
     ]
    },
    {
     "name": "stdout",
     "output_type": "stream",
     "text": [
      "Year : 2020 Done!\n",
      "\n",
      "-------------------------------\n"
     ]
    }
   ],
   "source": [
    "download_page(2020)"
   ]
  },
  {
   "cell_type": "markdown",
   "id": "3afda5fe-5a7c-4e75-b871-9c41ab22c95c",
   "metadata": {},
   "source": [
    "**Getting the pages**"
   ]
  },
  {
   "cell_type": "code",
   "execution_count": 15,
   "id": "aa5fa5f4-3a72-436a-8596-4f7249d403fb",
   "metadata": {},
   "outputs": [
    {
     "name": "stdout",
     "output_type": "stream",
     "text": [
      "Getting the page for the year : 2007\n",
      "2007 7\n",
      "https://www.nba.com/stats/teams/advanced/?dir=-1&sort=W&Season=2006-07&SeasonType=Regular%20Season\n"
     ]
    },
    {
     "name": "stderr",
     "output_type": "stream",
     "text": [
      "/tmp/ipykernel_13194/610785469.py:15: DeprecationWarning: find_element_by_* commands are deprecated. Please use find_element() instead\n",
      "  driver.find_element_by_id('onetrust-accept-btn-handler').click()\n"
     ]
    },
    {
     "name": "stdout",
     "output_type": "stream",
     "text": [
      "Year : 2007 Done!\n",
      "\n",
      "-------------------------------\n",
      "Getting the page for the year : 2008\n",
      "2008 8\n",
      "https://www.nba.com/stats/teams/advanced/?dir=-1&sort=W&Season=2007-08&SeasonType=Regular%20Season\n",
      "Year : 2008 Done!\n",
      "\n",
      "-------------------------------\n",
      "Getting the page for the year : 2009\n",
      "2009 9\n",
      "https://www.nba.com/stats/teams/advanced/?dir=-1&sort=W&Season=2008-09&SeasonType=Regular%20Season\n",
      "Year : 2009 Done!\n",
      "\n",
      "-------------------------------\n",
      "Getting the page for the year : 2010\n",
      "2010 10\n",
      "https://www.nba.com/stats/teams/advanced/?dir=-1&sort=W&Season=2009-010&SeasonType=Regular%20Season\n",
      "Year : 2010 Done!\n",
      "\n",
      "-------------------------------\n",
      "Getting the page for the year : 2011\n",
      "2011 11\n",
      "https://www.nba.com/stats/teams/advanced/?dir=-1&sort=W&Season=2010-11&SeasonType=Regular%20Season\n",
      "Another try\n",
      "Getting the page for the year : 2011\n",
      "2011 11\n",
      "https://www.nba.com/stats/teams/advanced/?dir=-1&sort=W&Season=2010-11&SeasonType=Regular%20Season\n",
      "Year : 2011 Done!\n",
      "\n",
      "-------------------------------\n",
      "Getting the page for the year : 2012\n",
      "2012 12\n",
      "https://www.nba.com/stats/teams/advanced/?dir=-1&sort=W&Season=2011-12&SeasonType=Regular%20Season\n",
      "Year : 2012 Done!\n",
      "\n",
      "-------------------------------\n",
      "Getting the page for the year : 2013\n",
      "2013 13\n",
      "https://www.nba.com/stats/teams/advanced/?dir=-1&sort=W&Season=2012-13&SeasonType=Regular%20Season\n",
      "Another try\n",
      "Getting the page for the year : 2013\n",
      "2013 13\n",
      "https://www.nba.com/stats/teams/advanced/?dir=-1&sort=W&Season=2012-13&SeasonType=Regular%20Season\n",
      "Year : 2013 Done!\n",
      "\n",
      "-------------------------------\n",
      "Getting the page for the year : 2014\n",
      "2014 14\n",
      "https://www.nba.com/stats/teams/advanced/?dir=-1&sort=W&Season=2013-14&SeasonType=Regular%20Season\n",
      "Year : 2014 Done!\n",
      "\n",
      "-------------------------------\n",
      "Getting the page for the year : 2015\n",
      "2015 15\n",
      "https://www.nba.com/stats/teams/advanced/?dir=-1&sort=W&Season=2014-15&SeasonType=Regular%20Season\n",
      "Year : 2015 Done!\n",
      "\n",
      "-------------------------------\n",
      "Getting the page for the year : 2016\n",
      "2016 16\n",
      "https://www.nba.com/stats/teams/advanced/?dir=-1&sort=W&Season=2015-16&SeasonType=Regular%20Season\n",
      "Year : 2016 Done!\n",
      "\n",
      "-------------------------------\n",
      "Getting the page for the year : 2017\n",
      "2017 17\n",
      "https://www.nba.com/stats/teams/advanced/?dir=-1&sort=W&Season=2016-17&SeasonType=Regular%20Season\n",
      "Year : 2017 Done!\n",
      "\n",
      "-------------------------------\n",
      "Getting the page for the year : 2018\n",
      "2018 18\n",
      "https://www.nba.com/stats/teams/advanced/?dir=-1&sort=W&Season=2017-18&SeasonType=Regular%20Season\n",
      "Year : 2018 Done!\n",
      "\n",
      "-------------------------------\n",
      "Getting the page for the year : 2019\n",
      "2019 19\n",
      "https://www.nba.com/stats/teams/advanced/?dir=-1&sort=W&Season=2018-19&SeasonType=Regular%20Season\n",
      "Year : 2019 Done!\n",
      "\n",
      "-------------------------------\n",
      "Getting the page for the year : 2020\n",
      "2020 20\n",
      "https://www.nba.com/stats/teams/advanced/?dir=-1&sort=W&Season=2019-20&SeasonType=Regular%20Season\n",
      "Year : 2020 Done!\n",
      "\n",
      "-------------------------------\n",
      "Getting the page for the year : 2021\n",
      "2021 21\n",
      "https://www.nba.com/stats/teams/advanced/?dir=-1&sort=W&Season=2020-21&SeasonType=Regular%20Season\n",
      "Year : 2021 Done!\n",
      "\n",
      "-------------------------------\n",
      "Getting the page for the year : 2022\n",
      "2022 22\n",
      "https://www.nba.com/stats/teams/advanced/?dir=-1&sort=W&Season=2021-22&SeasonType=Regular%20Season\n",
      "Year : 2022 Done!\n",
      "\n",
      "-------------------------------\n"
     ]
    }
   ],
   "source": [
    "for year in range(2007, 2023) : \n",
    "    try:\n",
    "        download_page(year)\n",
    "        \n",
    "    except WebDriverException:\n",
    "        print('Another try')\n",
    "        download_page(year)"
   ]
  },
  {
   "cell_type": "code",
   "execution_count": null,
   "id": "87c45d8c-cde4-47de-87a6-ed8ec6a73a66",
   "metadata": {},
   "outputs": [],
   "source": []
  },
  {
   "cell_type": "code",
   "execution_count": null,
   "id": "181f622a-9d7d-4bec-a643-d161ee6a9ca7",
   "metadata": {},
   "outputs": [],
   "source": []
  },
  {
   "cell_type": "code",
   "execution_count": null,
   "id": "3079700c-0c9f-495c-b721-92da11c5b17e",
   "metadata": {},
   "outputs": [],
   "source": []
  },
  {
   "cell_type": "code",
   "execution_count": null,
   "id": "23c25d7e-f59e-4c3c-a5c7-e9b86655f579",
   "metadata": {},
   "outputs": [],
   "source": []
  },
  {
   "cell_type": "code",
   "execution_count": null,
   "id": "ebe04fe6-aaa4-446c-ab16-c97c60f5aaf8",
   "metadata": {},
   "outputs": [],
   "source": []
  },
  {
   "cell_type": "code",
   "execution_count": null,
   "id": "3f023b59-5f46-4d74-84ce-2ce7b3ffe239",
   "metadata": {},
   "outputs": [],
   "source": []
  },
  {
   "cell_type": "code",
   "execution_count": null,
   "id": "64a1e0db-6b41-4b12-9d14-acb12dbca4bb",
   "metadata": {},
   "outputs": [],
   "source": []
  },
  {
   "cell_type": "code",
   "execution_count": 10,
   "id": "cc7348ab-78f2-4a04-aa20-818b0134eca9",
   "metadata": {},
   "outputs": [],
   "source": [
    "table = soup.find(name='div', attrs={'class' : \"nba-stat-table\"})"
   ]
  },
  {
   "cell_type": "code",
   "execution_count": 3,
   "id": "010fed74-f66c-4eaf-8f4a-471c235defc6",
   "metadata": {},
   "outputs": [],
   "source": [
    "with open('test.html', 'r') as f :\n",
    "    soup = BeautifulSoup(f)"
   ]
  },
  {
   "cell_type": "code",
   "execution_count": 12,
   "id": "aa746445-debd-4e79-a89c-f5b4cbde66c9",
   "metadata": {},
   "outputs": [],
   "source": [
    "table = soup.find(name='div', attrs={'class' : \"nba-stat-table\"})"
   ]
  },
  {
   "cell_type": "code",
   "execution_count": 13,
   "id": "4f0d3ec4-7d34-4426-8282-fc7bbbe38ffe",
   "metadata": {},
   "outputs": [],
   "source": [
    "df = pd.read_html(str(table))[0]"
   ]
  },
  {
   "cell_type": "code",
   "execution_count": null,
   "id": "3e7a8c85-41eb-463d-8381-31bb3353639c",
   "metadata": {},
   "outputs": [],
   "source": []
  },
  {
   "cell_type": "markdown",
   "id": "e64ad8c4-33f1-4643-8103-3adf97895862",
   "metadata": {},
   "source": [
    "**Extracting the data from the pages**"
   ]
  },
  {
   "cell_type": "code",
   "execution_count": 5,
   "id": "2a2024aa-7342-4d90-8251-ee059bcf01aa",
   "metadata": {},
   "outputs": [],
   "source": [
    "import os"
   ]
  },
  {
   "cell_type": "code",
   "execution_count": 6,
   "id": "fea50fed-a658-4481-a65f-f4df47c97bdd",
   "metadata": {},
   "outputs": [
    {
     "name": "stdout",
     "output_type": "stream",
     "text": [
      "['team_html2/1997.html', 'team_html2/2003.html', 'team_html2/1992.html', 'team_html2/2007.html', 'team_html2/1991.html', 'team_html2/2022.html', 'team_html2/2015.html', 'team_html2/2013.html', 'team_html2/2021.html', 'team_html2/2004.html', 'team_html2/2012.html', 'team_html2/2006.html', 'team_html2/2008.html', 'team_html2/2009.html', 'team_html2/2005.html', 'team_html2/1993.html', 'team_html2/1999.html', 'team_html2/2011.html', 'team_html2/2020.html', 'team_html2/2001.html', 'team_html2/2017.html', 'team_html2/2010.html', 'team_html2/1995.html', 'team_html2/1996.html', 'team_html2/1994.html', 'team_html2/1998.html', 'team_html2/2014.html', 'team_html2/2002.html', 'team_html2/2018.html', 'team_html2/2000.html', 'team_html2/2016.html', 'team_html2/2019.html']\n"
     ]
    }
   ],
   "source": [
    "directory = 'team_html2'\n",
    "filename_list = list()\n",
    "\n",
    "for filename in os.listdir(directory):\n",
    "    f = os.path.join(directory, filename)\n",
    "    if os.path.isfile(f):\n",
    "        filename_list.append(f)\n",
    "        \n",
    "print(filename_list)"
   ]
  },
  {
   "cell_type": "code",
   "execution_count": 13,
   "id": "beac0f37-8971-4f5e-a84e-564c2febfc9c",
   "metadata": {},
   "outputs": [],
   "source": [
    "df_array = list()\n",
    "\n",
    "\n",
    "for filename in filename_list:\n",
    "    with open(filename, 'r') as f:\n",
    "        soup = BeautifulSoup(f)\n",
    "        \n",
    "    table = soup.find(name='div', attrs={'class' : \"nba-stat-table\"})\n",
    "    df = pd.read_html(str(table))[0]\n",
    "    #print(df)\n",
    "    df['year'] = str((filename.split('/')[1]).split('.')[0])\n",
    "    \n",
    "    df_array.append(df)\n",
    "    \n",
    "final_df = pd.concat(df_array)"
   ]
  },
  {
   "cell_type": "code",
   "execution_count": 14,
   "id": "46ef75f4-5589-450c-9849-ae17b0d156c4",
   "metadata": {},
   "outputs": [
    {
     "data": {
      "text/html": [
       "<div>\n",
       "<style scoped>\n",
       "    .dataframe tbody tr th:only-of-type {\n",
       "        vertical-align: middle;\n",
       "    }\n",
       "\n",
       "    .dataframe tbody tr th {\n",
       "        vertical-align: top;\n",
       "    }\n",
       "\n",
       "    .dataframe thead th {\n",
       "        text-align: right;\n",
       "    }\n",
       "</style>\n",
       "<table border=\"1\" class=\"dataframe\">\n",
       "  <thead>\n",
       "    <tr style=\"text-align: right;\">\n",
       "      <th></th>\n",
       "      <th>Unnamed: 0</th>\n",
       "      <th>TEAM</th>\n",
       "      <th>GP</th>\n",
       "      <th>W</th>\n",
       "      <th>L</th>\n",
       "      <th>MIN</th>\n",
       "      <th>OffRtg</th>\n",
       "      <th>DefRtg</th>\n",
       "      <th>NetRtg</th>\n",
       "      <th>AST%</th>\n",
       "      <th>...</th>\n",
       "      <th>ASTRatio RANK</th>\n",
       "      <th>OREB% RANK</th>\n",
       "      <th>DREB% RANK</th>\n",
       "      <th>REB% RANK</th>\n",
       "      <th>TORatio RANK</th>\n",
       "      <th>eFG% RANK</th>\n",
       "      <th>TS% RANK</th>\n",
       "      <th>PACE RANK</th>\n",
       "      <th>PIE RANK</th>\n",
       "      <th>year</th>\n",
       "    </tr>\n",
       "  </thead>\n",
       "  <tbody>\n",
       "    <tr>\n",
       "      <th>28</th>\n",
       "      <td>29</td>\n",
       "      <td>Orlando Magic</td>\n",
       "      <td>82</td>\n",
       "      <td>21</td>\n",
       "      <td>61</td>\n",
       "      <td>3966.0</td>\n",
       "      <td>101.4</td>\n",
       "      <td>108.8</td>\n",
       "      <td>-7.4</td>\n",
       "      <td>54.5</td>\n",
       "      <td>...</td>\n",
       "      <td>NaN</td>\n",
       "      <td>NaN</td>\n",
       "      <td>NaN</td>\n",
       "      <td>NaN</td>\n",
       "      <td>NaN</td>\n",
       "      <td>NaN</td>\n",
       "      <td>NaN</td>\n",
       "      <td>NaN</td>\n",
       "      <td>NaN</td>\n",
       "      <td>2004</td>\n",
       "    </tr>\n",
       "    <tr>\n",
       "      <th>16</th>\n",
       "      <td>16</td>\n",
       "      <td>Charlotte Hornets</td>\n",
       "      <td>82</td>\n",
       "      <td>43</td>\n",
       "      <td>39</td>\n",
       "      <td>3976.0</td>\n",
       "      <td>113.6</td>\n",
       "      <td>113.1</td>\n",
       "      <td>0.5</td>\n",
       "      <td>65.6</td>\n",
       "      <td>...</td>\n",
       "      <td>NaN</td>\n",
       "      <td>NaN</td>\n",
       "      <td>NaN</td>\n",
       "      <td>NaN</td>\n",
       "      <td>NaN</td>\n",
       "      <td>NaN</td>\n",
       "      <td>NaN</td>\n",
       "      <td>NaN</td>\n",
       "      <td>NaN</td>\n",
       "      <td>1996</td>\n",
       "    </tr>\n",
       "    <tr>\n",
       "      <th>24</th>\n",
       "      <td>25</td>\n",
       "      <td>Milwaukee Bucks</td>\n",
       "      <td>82</td>\n",
       "      <td>30</td>\n",
       "      <td>52</td>\n",
       "      <td>3956.0</td>\n",
       "      <td>105.1</td>\n",
       "      <td>108.1</td>\n",
       "      <td>-3.0</td>\n",
       "      <td>58.0</td>\n",
       "      <td>...</td>\n",
       "      <td>NaN</td>\n",
       "      <td>NaN</td>\n",
       "      <td>NaN</td>\n",
       "      <td>NaN</td>\n",
       "      <td>NaN</td>\n",
       "      <td>NaN</td>\n",
       "      <td>NaN</td>\n",
       "      <td>NaN</td>\n",
       "      <td>NaN</td>\n",
       "      <td>2005</td>\n",
       "    </tr>\n",
       "    <tr>\n",
       "      <th>19</th>\n",
       "      <td>20</td>\n",
       "      <td>Orlando Magic</td>\n",
       "      <td>82</td>\n",
       "      <td>35</td>\n",
       "      <td>47</td>\n",
       "      <td>3981.0</td>\n",
       "      <td>104.4</td>\n",
       "      <td>106.0</td>\n",
       "      <td>-1.6</td>\n",
       "      <td>59.6</td>\n",
       "      <td>...</td>\n",
       "      <td>NaN</td>\n",
       "      <td>NaN</td>\n",
       "      <td>NaN</td>\n",
       "      <td>NaN</td>\n",
       "      <td>NaN</td>\n",
       "      <td>NaN</td>\n",
       "      <td>NaN</td>\n",
       "      <td>NaN</td>\n",
       "      <td>NaN</td>\n",
       "      <td>2016</td>\n",
       "    </tr>\n",
       "    <tr>\n",
       "      <th>0</th>\n",
       "      <td>1</td>\n",
       "      <td>Chicago Bulls</td>\n",
       "      <td>82</td>\n",
       "      <td>69</td>\n",
       "      <td>13</td>\n",
       "      <td>3946.0</td>\n",
       "      <td>112.4</td>\n",
       "      <td>100.7</td>\n",
       "      <td>11.8</td>\n",
       "      <td>65.4</td>\n",
       "      <td>...</td>\n",
       "      <td>NaN</td>\n",
       "      <td>NaN</td>\n",
       "      <td>NaN</td>\n",
       "      <td>NaN</td>\n",
       "      <td>NaN</td>\n",
       "      <td>NaN</td>\n",
       "      <td>NaN</td>\n",
       "      <td>NaN</td>\n",
       "      <td>NaN</td>\n",
       "      <td>1997</td>\n",
       "    </tr>\n",
       "    <tr>\n",
       "      <th>6</th>\n",
       "      <td>6</td>\n",
       "      <td>Phoenix Suns</td>\n",
       "      <td>82</td>\n",
       "      <td>55</td>\n",
       "      <td>27</td>\n",
       "      <td>3956.0</td>\n",
       "      <td>112.0</td>\n",
       "      <td>107.0</td>\n",
       "      <td>5.0</td>\n",
       "      <td>64.5</td>\n",
       "      <td>...</td>\n",
       "      <td>NaN</td>\n",
       "      <td>NaN</td>\n",
       "      <td>NaN</td>\n",
       "      <td>NaN</td>\n",
       "      <td>NaN</td>\n",
       "      <td>NaN</td>\n",
       "      <td>NaN</td>\n",
       "      <td>NaN</td>\n",
       "      <td>NaN</td>\n",
       "      <td>2008</td>\n",
       "    </tr>\n",
       "    <tr>\n",
       "      <th>26</th>\n",
       "      <td>27</td>\n",
       "      <td>Atlanta Hawks</td>\n",
       "      <td>82</td>\n",
       "      <td>30</td>\n",
       "      <td>52</td>\n",
       "      <td>3976.0</td>\n",
       "      <td>102.0</td>\n",
       "      <td>107.0</td>\n",
       "      <td>-5.1</td>\n",
       "      <td>55.6</td>\n",
       "      <td>...</td>\n",
       "      <td>NaN</td>\n",
       "      <td>NaN</td>\n",
       "      <td>NaN</td>\n",
       "      <td>NaN</td>\n",
       "      <td>NaN</td>\n",
       "      <td>NaN</td>\n",
       "      <td>NaN</td>\n",
       "      <td>NaN</td>\n",
       "      <td>NaN</td>\n",
       "      <td>2007</td>\n",
       "    </tr>\n",
       "    <tr>\n",
       "      <th>2</th>\n",
       "      <td>3</td>\n",
       "      <td>Golden State Warriors</td>\n",
       "      <td>82</td>\n",
       "      <td>53</td>\n",
       "      <td>29</td>\n",
       "      <td>3946.0</td>\n",
       "      <td>112.1</td>\n",
       "      <td>106.6</td>\n",
       "      <td>5.5</td>\n",
       "      <td>66.9</td>\n",
       "      <td>...</td>\n",
       "      <td>NaN</td>\n",
       "      <td>NaN</td>\n",
       "      <td>NaN</td>\n",
       "      <td>NaN</td>\n",
       "      <td>NaN</td>\n",
       "      <td>NaN</td>\n",
       "      <td>NaN</td>\n",
       "      <td>NaN</td>\n",
       "      <td>NaN</td>\n",
       "      <td>1993</td>\n",
       "    </tr>\n",
       "    <tr>\n",
       "      <th>23</th>\n",
       "      <td>24</td>\n",
       "      <td>Dallas Mavericks</td>\n",
       "      <td>82</td>\n",
       "      <td>20</td>\n",
       "      <td>62</td>\n",
       "      <td>3981.0</td>\n",
       "      <td>98.9</td>\n",
       "      <td>105.2</td>\n",
       "      <td>-6.3</td>\n",
       "      <td>53.3</td>\n",
       "      <td>...</td>\n",
       "      <td>NaN</td>\n",
       "      <td>NaN</td>\n",
       "      <td>NaN</td>\n",
       "      <td>NaN</td>\n",
       "      <td>NaN</td>\n",
       "      <td>NaN</td>\n",
       "      <td>NaN</td>\n",
       "      <td>NaN</td>\n",
       "      <td>NaN</td>\n",
       "      <td>1998</td>\n",
       "    </tr>\n",
       "    <tr>\n",
       "      <th>21</th>\n",
       "      <td>22</td>\n",
       "      <td>Cleveland Cavaliers</td>\n",
       "      <td>82</td>\n",
       "      <td>32</td>\n",
       "      <td>50</td>\n",
       "      <td>3971.0</td>\n",
       "      <td>98.7</td>\n",
       "      <td>102.2</td>\n",
       "      <td>-3.5</td>\n",
       "      <td>65.2</td>\n",
       "      <td>...</td>\n",
       "      <td>NaN</td>\n",
       "      <td>NaN</td>\n",
       "      <td>NaN</td>\n",
       "      <td>NaN</td>\n",
       "      <td>NaN</td>\n",
       "      <td>NaN</td>\n",
       "      <td>NaN</td>\n",
       "      <td>NaN</td>\n",
       "      <td>NaN</td>\n",
       "      <td>2000</td>\n",
       "    </tr>\n",
       "  </tbody>\n",
       "</table>\n",
       "<p>10 rows × 40 columns</p>\n",
       "</div>"
      ],
      "text/plain": [
       "    Unnamed: 0                   TEAM  GP   W   L     MIN  OffRtg  DefRtg  \\\n",
       "28          29          Orlando Magic  82  21  61  3966.0   101.4   108.8   \n",
       "16          16      Charlotte Hornets  82  43  39  3976.0   113.6   113.1   \n",
       "24          25        Milwaukee Bucks  82  30  52  3956.0   105.1   108.1   \n",
       "19          20          Orlando Magic  82  35  47  3981.0   104.4   106.0   \n",
       "0            1          Chicago Bulls  82  69  13  3946.0   112.4   100.7   \n",
       "6            6           Phoenix Suns  82  55  27  3956.0   112.0   107.0   \n",
       "26          27          Atlanta Hawks  82  30  52  3976.0   102.0   107.0   \n",
       "2            3  Golden State Warriors  82  53  29  3946.0   112.1   106.6   \n",
       "23          24       Dallas Mavericks  82  20  62  3981.0    98.9   105.2   \n",
       "21          22    Cleveland Cavaliers  82  32  50  3971.0    98.7   102.2   \n",
       "\n",
       "    NetRtg  AST%  ...  ASTRatio RANK  OREB% RANK  DREB% RANK  REB% RANK  \\\n",
       "28    -7.4  54.5  ...            NaN         NaN         NaN        NaN   \n",
       "16     0.5  65.6  ...            NaN         NaN         NaN        NaN   \n",
       "24    -3.0  58.0  ...            NaN         NaN         NaN        NaN   \n",
       "19    -1.6  59.6  ...            NaN         NaN         NaN        NaN   \n",
       "0     11.8  65.4  ...            NaN         NaN         NaN        NaN   \n",
       "6      5.0  64.5  ...            NaN         NaN         NaN        NaN   \n",
       "26    -5.1  55.6  ...            NaN         NaN         NaN        NaN   \n",
       "2      5.5  66.9  ...            NaN         NaN         NaN        NaN   \n",
       "23    -6.3  53.3  ...            NaN         NaN         NaN        NaN   \n",
       "21    -3.5  65.2  ...            NaN         NaN         NaN        NaN   \n",
       "\n",
       "    TORatio RANK  eFG% RANK  TS% RANK  PACE RANK  PIE RANK  year  \n",
       "28           NaN        NaN       NaN        NaN       NaN  2004  \n",
       "16           NaN        NaN       NaN        NaN       NaN  1996  \n",
       "24           NaN        NaN       NaN        NaN       NaN  2005  \n",
       "19           NaN        NaN       NaN        NaN       NaN  2016  \n",
       "0            NaN        NaN       NaN        NaN       NaN  1997  \n",
       "6            NaN        NaN       NaN        NaN       NaN  2008  \n",
       "26           NaN        NaN       NaN        NaN       NaN  2007  \n",
       "2            NaN        NaN       NaN        NaN       NaN  1993  \n",
       "23           NaN        NaN       NaN        NaN       NaN  1998  \n",
       "21           NaN        NaN       NaN        NaN       NaN  2000  \n",
       "\n",
       "[10 rows x 40 columns]"
      ]
     },
     "execution_count": 14,
     "metadata": {},
     "output_type": "execute_result"
    }
   ],
   "source": [
    "final_df.sample(10)"
   ]
  },
  {
   "cell_type": "code",
   "execution_count": 16,
   "id": "b1ab9629-2e02-48c0-bf09-263fd487d650",
   "metadata": {},
   "outputs": [],
   "source": [
    "final_df.to_csv('nba_site_team.csv')"
   ]
  },
  {
   "cell_type": "code",
   "execution_count": null,
   "id": "d349cbdf-0194-45ab-94e3-2d5d86746f7f",
   "metadata": {},
   "outputs": [],
   "source": []
  },
  {
   "cell_type": "code",
   "execution_count": null,
   "id": "29336ba2-a518-48c6-97c3-779053d13053",
   "metadata": {},
   "outputs": [],
   "source": []
  },
  {
   "cell_type": "code",
   "execution_count": null,
   "id": "b92488c7-4ff9-4fec-9b7c-dc5347280cf2",
   "metadata": {},
   "outputs": [],
   "source": []
  }
 ],
 "metadata": {
  "kernelspec": {
   "display_name": "Python 3 (ipykernel)",
   "language": "python",
   "name": "python3"
  },
  "language_info": {
   "codemirror_mode": {
    "name": "ipython",
    "version": 3
   },
   "file_extension": ".py",
   "mimetype": "text/x-python",
   "name": "python",
   "nbconvert_exporter": "python",
   "pygments_lexer": "ipython3",
   "version": "3.8.8"
  }
 },
 "nbformat": 4,
 "nbformat_minor": 5
}
